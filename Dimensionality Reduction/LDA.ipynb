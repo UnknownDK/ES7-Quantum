{
 "cells": [
  {
   "cell_type": "code",
   "execution_count": 4,
   "metadata": {},
   "outputs": [],
   "source": [
    "from sklearn.discriminant_analysis import LinearDiscriminantAnalysis as LDA\n",
    "import numpy as np\n",
    "import tensorflow as tf\n"
   ]
  },
  {
   "cell_type": "code",
   "execution_count": 5,
   "metadata": {},
   "outputs": [],
   "source": [
    "fashion_mnist = tf.keras.datasets.fashion_mnist\n",
    "\n",
    "(train_images, train_labels), (test_images, test_labels) = fashion_mnist.load_data()\n",
    "\n",
    "# Setup labels as vector outputs rather than digit value\n",
    "train_labelsVektor = np.zeros((10, len(train_labels)))\n",
    "for i in range(len(train_labels)):\n",
    "    for j in range(10):\n",
    "        if train_labels[i] == j:\n",
    "            train_labelsVektor[j, i] += 1\n",
    "train_labelsVektor = np.transpose(train_labelsVektor)\n",
    "\n",
    "test_labelsVektor = np.zeros((10, len(test_labels)))\n",
    "for i in range(len(test_labels)):\n",
    "    for j in range(10):\n",
    "        if test_labels[i] == j:\n",
    "            test_labelsVektor[j, i] += 1\n",
    "test_labelsVektor = np.transpose(test_labelsVektor)\n",
    "\n",
    "class_names = ['T-shirt/top', 'Trouser', 'Pullover', 'Dress', 'Coat',\n",
    "               'Sandal', 'Shirt', 'Sneaker', 'Bag', 'Ankle boot']\n",
    "\n",
    "# Normalize\n",
    "train_images = train_images / 255.0\n",
    "test_images = test_images / 255.0"
   ]
  },
  {
   "cell_type": "code",
   "execution_count": 6,
   "metadata": {},
   "outputs": [],
   "source": [
    "def dimLDA(dim, trainIMG, trainLBL, testIMG):\n",
    "    trainIMG = trainIMG.reshape([np.size(trainIMG,0),np.size(trainIMG,1)*np.size(trainIMG,2)])\n",
    "    testIMG = testIMG.reshape([np.size(testIMG,0),np.size(testIMG,1)*np.size(testIMG,2)])\n",
    "\n",
    "    lda = LDA(n_components=dim)\n",
    "    redTrainIMG = lda.fit_transform(trainIMG, trainLBL)\n",
    "    redTestIMG = lda.transform(testIMG)\n",
    "    return redTrainIMG, redTestIMG\n",
    "    "
   ]
  },
  {
   "cell_type": "code",
   "execution_count": 8,
   "metadata": {},
   "outputs": [],
   "source": [
    "\n",
    "train_images_red, test_images_red = dimLDA(1, train_images, train_labels, test_images)"
   ]
  }
 ],
 "metadata": {
  "kernelspec": {
   "display_name": "Python 3 (ipykernel)",
   "language": "python",
   "name": "python3"
  },
  "language_info": {
   "codemirror_mode": {
    "name": "ipython",
    "version": 3
   },
   "file_extension": ".py",
   "mimetype": "text/x-python",
   "name": "python",
   "nbconvert_exporter": "python",
   "pygments_lexer": "ipython3",
   "version": "3.9.7"
  },
  "orig_nbformat": 4
 },
 "nbformat": 4,
 "nbformat_minor": 2
}
