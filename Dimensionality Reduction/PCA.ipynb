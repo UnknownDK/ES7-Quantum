{
 "cells": [
  {
   "cell_type": "code",
   "execution_count": 7,
   "metadata": {},
   "outputs": [],
   "source": [
    "import numpy as np\n",
    "import tensorflow as tf\n",
    "from tqdm.notebook import tqdm"
   ]
  },
  {
   "cell_type": "code",
   "execution_count": 5,
   "metadata": {},
   "outputs": [],
   "source": [
    "def load_reduced_data(keepClasses: list, qubitCount):\n",
    "    \"\"\"\n",
    "    Takes a list of classes to keep and returns reduced mnist dataset.\n",
    "    Loops over full data and appends to list if the class is in keepClasses.\n",
    "    A list is used for performance reasons, since Numpy Append copies the entire array\n",
    "    every time. The lists are cast to numpy array before returning.\n",
    "    \n",
    "    :param list keepClasses: List of ints.\n",
    "    :return: returns two tuples. One with train data and one with test data.\n",
    "    \"\"\"\n",
    "    transDict = {}\n",
    "    for i in range(len(keepClasses)):\n",
    "        transDict[keepClasses[i]] = i\n",
    "    print(transDict)\n",
    "    \n",
    "    \n",
    "    #fashion_mnist = fashion_mnist\n",
    "    (train_images_full, train_labels_full), (test_images_full, test_labels_full) = tf.keras.datasets.fashion_mnist.load_data()\n",
    "    \n",
    "    train_images = []\n",
    "    train_labels = []\n",
    "    test_images = []\n",
    "    test_labels = []\n",
    "    print(\"Loading train data\")\n",
    "    for i in tqdm(list(range(len(train_labels_full)))):\n",
    "        if train_labels_full[i] in keepClasses:\n",
    "            train_labels.append(transDict[train_labels_full[i]])\n",
    "            train_images.append(train_images_full[i])\n",
    "    train_images = np.array(train_images)\n",
    "    train_labels = np.array(train_labels)\n",
    "    print(\"Loading test data\")\n",
    "    for i in tqdm(list(range(len(test_labels_full)))):\n",
    "        if test_labels_full[i] in keepClasses:\n",
    "            test_labels.append(transDict[test_labels_full[i]])\n",
    "            test_images.append(test_images_full[i])\n",
    "    test_images = np.array(test_images)\n",
    "    test_labels = np.array(test_labels)\n",
    "    \n",
    "    \n",
    "    # Setup labels as vector outputs rather than digit value\n",
    "    train_labelsVektor = np.zeros((qubitCount, len(train_labels)))\n",
    "    for i in range(len(train_labels)):\n",
    "        for j in range(len(keepClasses)):\n",
    "            if train_labels[i] == j:\n",
    "                train_labelsVektor[j, i] += 1\n",
    "    train_labelsVektor = np.transpose(train_labelsVektor)\n",
    "\n",
    "    test_labelsVektor = np.zeros((qubitCount, len(test_labels)))\n",
    "    for i in range(len(test_labels)):\n",
    "        for j in range(len(keepClasses)):\n",
    "            if test_labels[i] == j:\n",
    "                test_labelsVektor[j, i] += 1\n",
    "    test_labelsVektor = np.transpose(test_labelsVektor)\n",
    "    \n",
    "    train_images = train_images / 255.0\n",
    "    test_images = test_images / 255.0\n",
    "    \n",
    "    return (train_images, train_labelsVektor), (test_images, test_labelsVektor)\n"
   ]
  },
  {
   "cell_type": "code",
   "execution_count": 1,
   "metadata": {},
   "outputs": [],
   "source": [
    "def nDimPCA(dimOut, data):\n",
    "    \"\"\"\n",
    "    Applies the PCA with to training data \n",
    "    \n",
    "    :param int dimOut: Dimension of the output data\n",
    "    :param np.array data: Matrices containing the training data\n",
    "    :return: returns the reduced training data now in reduced dimension\n",
    "    \"\"\"\n",
    "    #Normalize data\n",
    "    #Flatten input data\n",
    "    data = data.reshape([np.size(data,0),np.size(data,1)*np.size(data,2)])\n",
    "    #Mean\n",
    "    mu = np.mean(data, axis = 0)\n",
    "    mu = mu.reshape([np.size(mu,0),1])\n",
    "    #covariance\n",
    "    data = np.transpose(data)\n",
    "    sigma = np.cov(data-mu)\n",
    "    #SVD\n",
    "    U, S, V = np.linalg.svd(sigma)\n",
    "    #V reduced\n",
    "    VReduced = V[0:dimOut,0:]\n",
    "    #output reduced data\n",
    "    out = np.dot(VReduced,(data-mu))\n",
    "    return np.transpose(out),mu,VReduced\n",
    "\n",
    "def PCAOnTest(VReduced, mu, data):\n",
    "    \"\"\"\n",
    "    Applies the PCA to test data\n",
    "    \n",
    "    :param np.array VReduced: Eigenvectors for the PCA\n",
    "    :param np.array mu: Vector containing the mean values \n",
    "    :param np.array data: Matrices containing the test data\n",
    "    :return: returns the reduced test data now in the same dimension as the training data\n",
    "    \"\"\"\n",
    "    data = data.reshape([np.size(data,0),np.size(data,1)*np.size(data,2)])\n",
    "    data = np.transpose(data)\n",
    "    out = np.dot(VReduced,(data-mu))\n",
    "    \n",
    "    \n",
    "    return np.transpose(out)"
   ]
  },
  {
   "cell_type": "code",
   "execution_count": 11,
   "metadata": {},
   "outputs": [
    {
     "name": "stdout",
     "output_type": "stream",
     "text": [
      "{0: 0, 1: 1, 2: 2, 3: 3, 4: 4, 5: 5}\n",
      "Loading train data\n"
     ]
    },
    {
     "data": {
      "application/vnd.jupyter.widget-view+json": {
       "model_id": "c80e0dfba4b4466785c0140760157e5c",
       "version_major": 2,
       "version_minor": 0
      },
      "text/plain": [
       "  0%|          | 0/60000 [00:00<?, ?it/s]"
      ]
     },
     "metadata": {},
     "output_type": "display_data"
    },
    {
     "name": "stdout",
     "output_type": "stream",
     "text": [
      "Loading test data\n"
     ]
    },
    {
     "data": {
      "application/vnd.jupyter.widget-view+json": {
       "model_id": "9468153846b44913b4e1b6aabadb1eb0",
       "version_major": 2,
       "version_minor": 0
      },
      "text/plain": [
       "  0%|          | 0/10000 [00:00<?, ?it/s]"
      ]
     },
     "metadata": {},
     "output_type": "display_data"
    }
   ],
   "source": [
    "(train_images, train_labelsVektor), (test_images, test_labelsVektor) = load_reduced_data([0,1,2,3,4,5], 10)\n",
    "\n",
    "reduced_training_data, mean, VRed = nDimPCA(3, train_images)\n",
    "test_images_red = PCAOnTest(VRed, mean, test_images)\n",
    "\n"
   ]
  }
 ],
 "metadata": {
  "kernelspec": {
   "display_name": "Python 3 (ipykernel)",
   "language": "python",
   "name": "python3"
  },
  "language_info": {
   "codemirror_mode": {
    "name": "ipython",
    "version": 3
   },
   "file_extension": ".py",
   "mimetype": "text/x-python",
   "name": "python",
   "nbconvert_exporter": "python",
   "pygments_lexer": "ipython3",
   "version": "3.9.7"
  },
  "orig_nbformat": 4
 },
 "nbformat": 4,
 "nbformat_minor": 2
}
