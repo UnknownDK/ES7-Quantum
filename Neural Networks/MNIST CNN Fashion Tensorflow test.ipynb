{
 "cells": [
  {
   "cell_type": "code",
   "execution_count": null,
   "id": "c2ad44d0",
   "metadata": {
    "ExecuteTime": {
     "end_time": "2022-11-18T10:40:51.428907Z",
     "start_time": "2022-11-18T10:40:51.423311Z"
    }
   },
   "outputs": [],
   "source": [
    "# Funky shit\n",
    "import os\n",
    "import csv\n",
    "os.environ['LD_LIBRARY_PATH'] = '/usr/lib/x86_64-linux-gnu/libcudart.so.11.0'\n",
    "from PIL import Image,ImageOps"
   ]
  },
  {
   "cell_type": "code",
   "execution_count": null,
   "id": "49394bf1",
   "metadata": {
    "ExecuteTime": {
     "end_time": "2022-11-18T10:40:51.468659Z",
     "start_time": "2022-11-18T10:40:51.432443Z"
    }
   },
   "outputs": [],
   "source": [
    "# TensorFlow and tf.keras\n",
    "import tensorflow as tf\n",
    "import numpy as np\n",
    "import matplotlib.pyplot as plt"
   ]
  },
  {
   "cell_type": "code",
   "execution_count": null,
   "id": "6439a2d3",
   "metadata": {
    "ExecuteTime": {
     "end_time": "2022-11-18T10:40:54.418596Z",
     "start_time": "2022-11-18T10:40:51.471689Z"
    }
   },
   "outputs": [],
   "source": [
    "fashion_mnist = tf.keras.datasets.fashion_mnist\n",
    "\n",
    "(train_images, train_labels), (test_images, test_labels) = fashion_mnist.load_data()\n",
    "\n",
    "# Setup labels as vector outputs rather than digit value\n",
    "train_labelsVektor = np.zeros((10, len(train_labels)))\n",
    "for i in range(len(train_labels)):\n",
    "    for j in range(10):\n",
    "        if train_labels[i] == j:\n",
    "            train_labelsVektor[j, i] += 1\n",
    "train_labelsVektor = np.transpose(train_labelsVektor)\n",
    "\n",
    "test_labelsVektor = np.zeros((10, len(test_labels)))\n",
    "for i in range(len(test_labels)):\n",
    "    for j in range(10):\n",
    "        if test_labels[i] == j:\n",
    "            test_labelsVektor[j, i] += 1\n",
    "test_labelsVektor = np.transpose(test_labelsVektor)\n",
    "\n",
    "class_names = ['T-shirt/top', 'Trouser', 'Pullover', 'Dress', 'Coat',\n",
    "               'Sandal', 'Shirt', 'Sneaker', 'Bag', 'Ankle boot']\n",
    "\n",
    "# Normalize\n",
    "train_images = train_images / 255.0\n",
    "test_images = test_images / 255.0"
   ]
  },
  {
   "cell_type": "code",
   "execution_count": null,
   "id": "ae382639",
   "metadata": {
    "ExecuteTime": {
     "end_time": "2022-11-18T10:40:54.428113Z",
     "start_time": "2022-11-18T10:40:54.421326Z"
    }
   },
   "outputs": [],
   "source": [
    "def generateModel(kernels, kernelDims, poolDims, activationFunctions):\n",
    "    model = tf.keras.Sequential()\n",
    "    model.add(tf.keras.layers.InputLayer(input_shape=(28, 28, 1), batch_size=32))\n",
    "    \n",
    "    for i in range(len(kernels)):\n",
    "        model.add(tf.keras.layers.Conv2D(kernels[i], kernelDims, activation=activationFunctions))\n",
    "        model.add(tf.keras.layers.MaxPool2D((poolDims)))\n",
    "    \n",
    "    # Dense model\n",
    "    model.add(tf.keras.layers.Flatten())\n",
    "    model.add(tf.keras.layers.Dense(56, activation='softplus'))\n",
    "    model.add(tf.keras.layers.Dense(10, activation='softmax'))\n",
    "    #model.summary()\n",
    "    return model"
   ]
  },
  {
   "cell_type": "code",
   "execution_count": null,
   "id": "be96144e",
   "metadata": {
    "ExecuteTime": {
     "end_time": "2022-11-18T10:40:54.734724Z",
     "start_time": "2022-11-18T10:40:54.431081Z"
    }
   },
   "outputs": [],
   "source": [
    "def compileModel(model):\n",
    "    model.compile(optimizer='adam',\n",
    "              loss=tf.keras.losses.MeanSquaredError(),\n",
    "              metrics=['accuracy'])\n",
    "    return model"
   ]
  },
  {
   "cell_type": "code",
   "execution_count": null,
   "id": "3b631445",
   "metadata": {
    "ExecuteTime": {
     "end_time": "2022-11-18T10:40:54.871029Z",
     "start_time": "2022-11-18T10:40:54.737636Z"
    },
    "scrolled": false
   },
   "outputs": [],
   "source": [
    "def trainModel(model, epochs):\n",
    "    trainAccuracy = np.zeros(epochs)\n",
    "    testAccuracy = np.zeros(epochs)\n",
    "    for i in range(epochs):\n",
    "        print('Epoch iteration: ' + str(i+1))\n",
    "        with tf.device('/GPU:0'):\n",
    "            history = model.fit(train_images, train_labelsVektor, epochs=1, batch_size=32, verbose=2)\n",
    "        trainAccuracy[i] = history.history[\"accuracy\"][0]\n",
    "        test_loss, test_acc = model.evaluate(test_images,  test_labelsVektor, batch_size=32, verbose=2)\n",
    "        testAccuracy[i] = test_acc\n",
    "    return trainAccuracy, testAccuracy"
   ]
  },
  {
   "cell_type": "code",
   "execution_count": null,
   "id": "fc24abb7",
   "metadata": {
    "ExecuteTime": {
     "end_time": "2022-11-18T10:40:54.915368Z",
     "start_time": "2022-11-18T10:40:54.873623Z"
    }
   },
   "outputs": [],
   "source": [
    "def writeToCSV(kernels, NNNumber, kernelDims, poolDims, activationFunction, trainAccuracy, testAccuracy):\n",
    "    with open('./Test_data_CNN/' + activationFunction + '/NN' + str(NNNumber+1) + 'KerDim' + str(kernelDims[0]) + '.csv', 'w', encoding='UTF8') as f:\n",
    "        writer = csv.writer(f)\n",
    "        writer.writerow(['CNN layers: ' + str(len(kernels))])\n",
    "        writer.writerow(['Kernels: ' + str(kernels)])\n",
    "        writer.writerow(['NN: ' + str(NNNumber+1)])\n",
    "        writer.writerow(['Kernel dim: ' + str(kernelDims)])\n",
    "        writer.writerow(['Pool dim: ' + str(poolDims)])\n",
    "        writer.writerow(['Activation function: ' + activationFunction])\n",
    "        writer.writerow(['Training accuracy', 'Test accuracy'])\n",
    "        for i in range(len(trainAccuracy)):\n",
    "            writer.writerow([trainAccuracy[i], testAccuracy[i]])"
   ]
  },
  {
   "cell_type": "code",
   "execution_count": null,
   "id": "0912081d",
   "metadata": {
    "ExecuteTime": {
     "end_time": "2022-11-18T12:09:19.367182Z",
     "start_time": "2022-11-18T10:40:54.917848Z"
    },
    "scrolled": false
   },
   "outputs": [],
   "source": [
    "# MAX POOL, AVG POOL, STRIDES, \n",
    "#kernels = [[28, 28], [28, 56], [14, 28], [28, 112], [28, 56, 56], [28, 56, 112], [56, 112, 112], [28, 56, 112], [14, 28, 56], [112, 224, 224]]\n",
    "kernels = [[112], [0]]\n",
    "kernelDims = [2, 2] #[[]\n",
    "poolDims = [[2, 2], [3, 3]] # bruger kun 2, 2\n",
    "activationFunctions = ['softplus', 'sigmoid', 'relu']\n",
    "\n",
    "epochs = 50\n",
    "#for k in range(len(kernelDims)):\n",
    "for i in range(len(activationFunctions)):\n",
    "    for j in range(len(kernels)):\n",
    "        #print(activationFunctions[i] + \", NN: \" + str(j+1) + \", kernelDims: \" + str(kernelDims[k]))\n",
    "        print(activationFunctions[i] + \", NN: \" + str(j+1) + \", kernelDims: \" + str(kernelDims))\n",
    "        #model = generateModel(kernels[j], kernelDims[k], poolDims[0], activationFunctions[i])\n",
    "        model = generateModel(kernels[j], kernelDims, poolDims[0], activationFunctions[i])\n",
    "        model = compileModel(model)\n",
    "        trainAccuracy, testAccuracy = trainModel(model, epochs)\n",
    "        #writeToCSV(kernels[j], j, kernelDims[k], poolDims[0],  activationFunctions[i], trainAccuracy, testAccuracy)\n",
    "        writeToCSV(kernels[j], j, kernelDims, poolDims[0],  activationFunctions[i], trainAccuracy, testAccuracy)"
   ]
  },
  {
   "cell_type": "code",
   "execution_count": null,
   "id": "39b29609",
   "metadata": {
    "ExecuteTime": {
     "end_time": "2022-11-18T12:09:19.372169Z",
     "start_time": "2022-11-18T12:09:19.372156Z"
    }
   },
   "outputs": [],
   "source": [
    "range(len(kernelDims))"
   ]
  }
 ],
 "metadata": {
  "kernelspec": {
   "display_name": "Python 3 (ipykernel)",
   "language": "python",
   "name": "python3"
  },
  "language_info": {
   "codemirror_mode": {
    "name": "ipython",
    "version": 3
   },
   "file_extension": ".py",
   "mimetype": "text/x-python",
   "name": "python",
   "nbconvert_exporter": "python",
   "pygments_lexer": "ipython3",
   "version": "3.9.7"
  },
  "varInspector": {
   "cols": {
    "lenName": 16,
    "lenType": 16,
    "lenVar": 40
   },
   "kernels_config": {
    "python": {
     "delete_cmd_postfix": "",
     "delete_cmd_prefix": "del ",
     "library": "var_list.py",
     "varRefreshCmd": "print(var_dic_list())"
    },
    "r": {
     "delete_cmd_postfix": ") ",
     "delete_cmd_prefix": "rm(",
     "library": "var_list.r",
     "varRefreshCmd": "cat(var_dic_list()) "
    }
   },
   "types_to_exclude": [
    "module",
    "function",
    "builtin_function_or_method",
    "instance",
    "_Feature"
   ],
   "window_display": false
  }
 },
 "nbformat": 4,
 "nbformat_minor": 5
}
