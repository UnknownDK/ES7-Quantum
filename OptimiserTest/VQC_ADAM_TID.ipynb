{
 "cells": [
  {
   "cell_type": "markdown",
   "id": "0b525f6a",
   "metadata": {},
   "source": [
    "##### Shit we need"
   ]
  },
  {
   "cell_type": "code",
   "execution_count": 1,
   "id": "50f48fc4",
   "metadata": {
    "ExecuteTime": {
     "end_time": "2022-12-09T12:31:08.333903Z",
     "start_time": "2022-12-09T12:30:55.607478Z"
    }
   },
   "outputs": [],
   "source": [
    "from qiskit import QuantumCircuit, Aer, transpile, IBMQ, providers\n",
    "from qiskit.circuit import Parameter, ParameterVector\n",
    "from qiskit.algorithms.optimizers import SPSA, ADAM\n",
    "from qiskit_machine_learning.algorithms.classifiers import VQC\n",
    "from qiskit_aer import AerSimulator, QasmSimulator\n",
    "from qiskit_aer.noise import NoiseModel\n",
    "from qiskit_ibm_runtime import QiskitRuntimeService, Sampler, Options, Session\n",
    "from qiskit.utils import QuantumInstance\n",
    "\n",
    "\n",
    "from tensorflow.keras.datasets import mnist, fashion_mnist\n",
    "\n",
    "import numpy as np\n",
    "from time import time\n",
    "from tqdm.notebook import tqdm\n",
    "import matplotlib.pyplot as plt\n",
    "import math\n",
    "import random\n",
    "import csv\n",
    "\n",
    "from IPython.display import clear_output\n",
    "\n",
    "#provider = IBMQ.load_account()"
   ]
  },
  {
   "cell_type": "markdown",
   "id": "0a41e159",
   "metadata": {},
   "source": [
    "### Setup of backend \n",
    "Here the backend is chosen and optional noise from real quantum computers is added to the simulation"
   ]
  },
  {
   "cell_type": "code",
   "execution_count": 2,
   "id": "af1a0069",
   "metadata": {
    "ExecuteTime": {
     "end_time": "2022-12-09T12:31:08.346056Z",
     "start_time": "2022-12-09T12:31:08.338289Z"
    }
   },
   "outputs": [],
   "source": [
    "shots = 1024\n",
    "\n",
    "#To add noise change which backend is outcommented \n",
    "\"\"\"\n",
    "simulatedBackend = provider.get_backend('ibmq_lima')\n",
    "\n",
    "chosenBackend = AerSimulator.from_backend(simulatedBackend, #noisy simulator\n",
    "                                          #max_parallel_threads=16,\n",
    "                                          #max_parallel_experiments=0,#unlimited seems like better performance 259 vs 319 med det off\n",
    "                                          shots=shots\n",
    "                                        )\n",
    "\"\"\"\n",
    "\n",
    "chosenBackend = AerSimulator(method=\"statevector\", #\"perfect\" simulator\n",
    "                             #max_parallel_threads=16,\n",
    "                             #max_parallel_experiments=0,\n",
    "                             shots=shots\n",
    "                            )\n",
    "\n",
    "botInstance = QuantumInstance(backend=chosenBackend,\n",
    "                              shots=shots,\n",
    "                              optimization_level=3,\n",
    "                             )"
   ]
  },
  {
   "cell_type": "markdown",
   "id": "956aac9f",
   "metadata": {},
   "source": [
    "### Definition of circuits\n",
    "Here both encoding and ansatz circuits are defined.\n",
    "All circuits are made as circuits with unbound parameters "
   ]
  },
  {
   "cell_type": "code",
   "execution_count": 3,
   "id": "4fdea72a",
   "metadata": {
    "ExecuteTime": {
     "end_time": "2022-12-09T12:31:09.871758Z",
     "start_time": "2022-12-09T12:31:08.349157Z"
    }
   },
   "outputs": [],
   "source": [
    "def encodeValidation(n,dataLenght, reps):\n",
    "    \"\"\"\n",
    "    \n",
    "    \"\"\"\n",
    "    if (dataLenght % n) > 0 and (dataLenght / n) > reps:\n",
    "         raise Exception(\"nr of features and encoding circuit doesn't match\") \n",
    "    else:\n",
    "        pass\n",
    "\n",
    "    \n",
    "def qcAnsatz2(qubits, nrT):\n",
    "    \"\"\"\"\n",
    "    This function generates ansatz circuit number 2\n",
    "    Inputs are number of qubits and the number of parameters\n",
    "    \n",
    "    :param int qubits: The number of qubits in the circuit\n",
    "    :param int nrT: The number of optimisation parameters which should be generated\n",
    "    :return: Ansatz circuit\n",
    "    \"\"\"\n",
    "    \n",
    "    paraPrQ = 2\n",
    "    paraPrL = paraPrQ * qubits\n",
    "    reps = math.ceil(nrT/paraPrL)\n",
    "    encodeValidation(qubits, nrT, reps) #checks wether or not nrT and qubits match\n",
    "    \n",
    "    theta_list = ParameterVector('θ', length=reps*paraPrL)\n",
    "    circuit = QuantumCircuit(qubits)\n",
    "    for j in range(reps):\n",
    "        for i in range(qubits):\n",
    "            circuit.rx(theta_list[j*paraPrL+i],i)\n",
    "            circuit.ry(theta_list[j*paraPrL+i+qubits],i)\n",
    "        \n",
    "        for i in range((qubits-1),0,-1):\n",
    "            circuit.cx(i,i-1)\n",
    "            \n",
    "        #circuit.barrier()\n",
    "    return circuit\n",
    "    \n",
    "    \n",
    "    \n",
    "def qcAnsatz9(qubits, nrT):\n",
    "    \"\"\"\"\n",
    "    This function generates ansatz circuit number 9\n",
    "    Inputs are number of qubits and the number of parameters\n",
    "    \n",
    "    :param int qubits: The number of qubits in the circuit\n",
    "    :param int nrT: The number of optimisation parameters which should be generated\n",
    "    :return: Ansatz circuit\n",
    "    \"\"\"\n",
    "    \n",
    "    paraPrQ = 1\n",
    "    paraPrL = paraPrQ * qubits\n",
    "    reps = math.ceil(nrT/paraPrL)\n",
    "    \n",
    "    encodeValidation(qubits, nrT, reps) #checks wether or not nrT and qubits match\n",
    "    \n",
    "    theta_list = ParameterVector('θ', length=reps*qubits)\n",
    "    circuit = QuantumCircuit(qubits)\n",
    "\n",
    "    for j in range(reps):\n",
    "        circuit.h(range(qubits))\n",
    "        for i in range(qubits-1):\n",
    "            circuit.swap(i,i+1)\n",
    "        \n",
    "        for i in range(qubits):\n",
    "            circuit.rx(theta_list[j*qubits+i], i)\n",
    "            \n",
    "        #circuit.barrier()\n",
    "    return circuit\n",
    "\n",
    "\n",
    "def qcAnsatzX(qubits, nrT):\n",
    "    \"\"\"\"\n",
    "    This function generates ansatz circuit number 9\n",
    "    Inputs are number of qubits and the number of parameters\n",
    "    \n",
    "    :param int qubits: The number of qubits in the circuit\n",
    "    :param int nrT: The number of optimisation parameters which should be generated\n",
    "    :return: Ansatz circuit\n",
    "    \"\"\"\n",
    "    \n",
    "    paraPrQ = 1\n",
    "    paraPrL = paraPrQ * qubits\n",
    "    reps = math.ceil(nrT/paraPrL)\n",
    "    \n",
    "    encodeValidation(qubits, nrT, reps) #checks wether or not nrT and qubits match\n",
    "    \n",
    "    theta_list = ParameterVector('θ', length=reps*qubits)\n",
    "    circuit = QuantumCircuit(qubits)\n",
    "\n",
    "    for j in range(reps):\n",
    "        circuit.h(range(qubits))\n",
    "        for i in range(qubits-1):\n",
    "            circuit.cx(i,i+1)\n",
    "        \n",
    "        for i in range(qubits):\n",
    "            circuit.rx(theta_list[j*qubits+i], i)\n",
    "            \n",
    "        #circuit.barrier()\n",
    "    return circuit\n",
    "\n",
    "\n",
    "def qcAnsatz14(qubits, nrT):\n",
    "    \n",
    "    \"\"\"\n",
    "    This function generates ansatz circuit number 14\n",
    "    Inputs are number of qubits and the number of parameters\n",
    "    \n",
    "    :param int qubits: The number of qubits in the circuit\n",
    "    :param int nrT: The number of optimisation parameters which should be generated\n",
    "    :return: Ansatz circuit\n",
    "    \"\"\"\n",
    "    \n",
    "    paraPrQ = 4\n",
    "    paraPrL = paraPrQ * qubits\n",
    "    reps = math.ceil(nrT/paraPrL)\n",
    "    \n",
    "    encodeValidation(qubits, nrT, reps) #checks wether or not nrT and qubits match\n",
    "    \n",
    "    theta_list = ParameterVector('θ', length=reps*paraPrL)\n",
    "    circuit = QuantumCircuit(qubits)\n",
    "    counter = 0\n",
    "    for j in range(reps):\n",
    "        for i in range(qubits):\n",
    "            #circuit.ry(theta_list[j*paraPrL+i], i)\n",
    "            circuit.ry(theta_list[counter], i)\n",
    "            counter += 1\n",
    "        \n",
    "        #circuit.barrier()\n",
    "        #circuit.crx(theta_list[j*paraPrL+qubits+1], nrT-1, 0)\n",
    "        circuit.crx(theta_list[counter], qubits-1, 0)\n",
    "        counter += 1\n",
    "       \n",
    "        if qubits > 2:\n",
    "            for i in range((qubits-2),-1,-1):\n",
    "                circuit.crx(theta_list[counter],i,i+1)\n",
    "                counter += 1\n",
    "                \n",
    "        #circuit.barrier()\n",
    "\n",
    "        for i in range(qubits):\n",
    "            circuit.ry(theta_list[counter], i)\n",
    "            counter += 1\n",
    "        \n",
    "        #circuit.barrier()\n",
    "\n",
    "        circuit.crx(theta_list[counter], qubits-1, qubits-2)\n",
    "        counter += 1\n",
    "        circuit.crx(theta_list[counter], 0, qubits-1,)\n",
    "        counter += 1\n",
    "        if qubits > 2:\n",
    "            for i in range(1,(qubits-1)):\n",
    "                circuit.crx(theta_list[counter], i, i-1,)\n",
    "                counter += 1\n",
    "        \n",
    "        #circuit.barrier()     \n",
    "    return circuit\n",
    "    \n",
    "\n",
    "\n",
    "# data encoding function\n",
    "def encode_ang(n, dataLen): # number of qubits, data\n",
    "    \"\"\"\n",
    "    This function generates an angle encoding circuit which can be used to bind features\n",
    "    Inputs are number of qubits and the number of parameters\n",
    "    \n",
    "    :param int n: The number of qubits in the circuit\n",
    "    :param int dataLen: The number of encoded features \n",
    "    :return: encoded circuit\n",
    "    \"\"\"\n",
    "    \n",
    "    reps = 1\n",
    "    \n",
    "    encodeValidation(n, dataLen, reps)\n",
    "    paraList = ParameterVector('X', length=dataLen)\n",
    "\n",
    "    circuit = QuantumCircuit(n)\n",
    "\n",
    "    \n",
    "    for i in range(n):\n",
    "        circuit.ry(paraList[i],i)\n",
    "    return circuit\n",
    "    \n",
    "def encode_denseAng(n, dataLen): # number of qubits, data\n",
    "    reps = 2\n",
    "    encodeValidation(n, dataLen, reps)\n",
    "    paraList = ParameterVector('X', length=dataLen)\n",
    "    circuit = QuantumCircuit(n)\n",
    "    for i in range(n):\n",
    "        circuit.ry(paraList[i],i)\n",
    "    for i in range(n):\n",
    "        circuit.rz(paraList[i+n],i)\n",
    "    return circuit\n",
    "        \n",
    "def encode_arb(n,dataLen):\n",
    "    reps = 4\n",
    "    encodeValidation(n, dataLen, reps)\n",
    "    paraList = ParameterVector('X', length=dataLen)\n",
    "    circuit = QuantumCircuit(n)\n",
    "    for i in range(n):\n",
    "        circuit.ry(paraList[i],i)\n",
    "    for i in range(n):\n",
    "        circuit.rz(paraList[i+n],i)\n",
    "    circuit.barrier()\n",
    "    for i in range(n-1):\n",
    "        circuit.cx(i,i+1)\n",
    "    circuit.barrier()\n",
    "    for i in range(n):\n",
    "        circuit.ry(paraList[i+2*n],i)\n",
    "    for i in range(n):\n",
    "        circuit.rz(paraList[i+3*n],i)\n",
    "    return circuit"
   ]
  },
  {
   "cell_type": "markdown",
   "id": "6b5d8cba",
   "metadata": {},
   "source": [
    "### Definition of PCA functions"
   ]
  },
  {
   "cell_type": "code",
   "execution_count": 4,
   "id": "a90b557a",
   "metadata": {
    "ExecuteTime": {
     "end_time": "2022-12-09T12:31:10.013171Z",
     "start_time": "2022-12-09T12:31:09.876513Z"
    }
   },
   "outputs": [],
   "source": [
    "def nDimPCA(dimOut, data):\n",
    "    \"\"\"\n",
    "    Applies the PCA with to training data \n",
    "    \n",
    "    :param int dimOut: Dimension of the output data\n",
    "    :param np.array data: Matrices containing the training data\n",
    "    :return: returns the reduced training data now in reduced dimension\n",
    "    \"\"\"\n",
    "    #Normalize data\n",
    "    #Flatten input data\n",
    "    data = data.reshape([np.size(data,0),np.size(data,1)*np.size(data,2)])\n",
    "    #Mean\n",
    "    mu = np.mean(data, axis = 0)\n",
    "    mu = mu.reshape([np.size(mu,0),1])\n",
    "    #covariance\n",
    "    data = np.transpose(data)\n",
    "    sigma = np.cov(data-mu)\n",
    "    #SVD\n",
    "    U, S, V = np.linalg.svd(sigma)\n",
    "    #V reduced\n",
    "    VReduced = V[0:dimOut,0:]\n",
    "    #output reduced data\n",
    "    out = np.dot(VReduced,(data-mu))\n",
    "    return np.transpose(out),mu,VReduced\n",
    "\n",
    "def PCAOnTest(VReduced, mu, data):\n",
    "    \"\"\"\n",
    "    Applies the PCA to test data\n",
    "    \n",
    "    :param np.array VReduced: Eigenvectors for the PCA\n",
    "    :param np.array mu: Vector containing the mean values \n",
    "    :param np.array data: Matrices containing the test data\n",
    "    :return: returns the reduced test data now in the same dimension as the training data\n",
    "    \"\"\"\n",
    "    data = data.reshape([np.size(data,0),np.size(data,1)*np.size(data,2)])\n",
    "    data = np.transpose(data)\n",
    "    out = np.dot(VReduced,(data-mu))\n",
    "    \n",
    "    ### FEJL PROB HER\n",
    "    #out = np.dot(np.transpose(VReduced),out)+mu\n",
    "    \n",
    "    return np.transpose(out)\n",
    "\n",
    "\n",
    "def min_max_norm(data):\n",
    "    \"\"\"\n",
    "    This function normalizes data to make it ready for encoding\n",
    "    The input is the data of for example a picture\n",
    "    Returns normalised data\n",
    "\n",
    "    \"\"\"\n",
    "    maxVal = np.max(data)\n",
    "    minVal = np.min(data)\n",
    "    newData = np.pi*(np.subtract(data,minVal))/(maxVal-minVal)\n",
    "    #newData = np.pi*data\n",
    "    return newData"
   ]
  },
  {
   "cell_type": "markdown",
   "id": "57ad2b7f",
   "metadata": {},
   "source": [
    "### Definition of functions for ML\n",
    "Here we add a few functions and classes which will later be used for our ML"
   ]
  },
  {
   "cell_type": "code",
   "execution_count": 5,
   "id": "e38a95d5",
   "metadata": {
    "ExecuteTime": {
     "end_time": "2022-12-09T12:31:10.074542Z",
     "start_time": "2022-12-09T12:31:10.016453Z"
    }
   },
   "outputs": [],
   "source": [
    "class OptimiserLog: #HEAVY INSPIRATION FROM QISKIT\n",
    "    \"\"\"Log to store optimizer's intermediate results\"\"\"\n",
    "    def __init__(self):\n",
    "        self.evaluations = []\n",
    "        self.parameters = []\n",
    "        self.costs = []\n",
    "        self.stepsize = []\n",
    "    def update(self, evaluation, parameter, cost, stepsize, _accept):\n",
    "        \"\"\"Save intermediate results. Optimizer passes five values\n",
    "        but we ignore the last.\"\"\"\n",
    "        self.evaluations.append(evaluation)\n",
    "        self.parameters.append(parameter)\n",
    "        self.costs.append(cost)\n",
    "        self.stepsize.append(stepsize)\n",
    "\n",
    "\n",
    "\n",
    "def callback_graph(weights, obj_func_eval):\n",
    "    clear_output(wait=True)\n",
    "    objective_func_vals.append(obj_func_eval)\n",
    "    plt.title(\"Objective function value against iteration\")\n",
    "    plt.xlabel(\"Iteration\")\n",
    "    plt.ylabel(\"Objective function value\")\n",
    "    plt.plot(range(len(objective_func_vals)), objective_func_vals)\n",
    "    plt.show()  \n",
    "\n",
    "def load_reduced_data(keepClasses: list, qubitCount):\n",
    "    \"\"\"\n",
    "    Takes a list of classes to keep and returns reduced mnist dataset.\n",
    "    Loops over full data and appends to list if the class is in keepClasses.\n",
    "    A list is used for performance reasons, since Numpy Append copies the entire array\n",
    "    every time. The lists are cast to numpy array before returning.\n",
    "    \n",
    "    :param list keepClasses: List of ints.\n",
    "    :return: returns two tuples. One with train data and one with test data.\n",
    "    \"\"\"\n",
    "    transDict = {}\n",
    "    for i in range(len(keepClasses)):\n",
    "        transDict[keepClasses[i]] = i\n",
    "    print(transDict)\n",
    "    \n",
    "    \n",
    "    #fashion_mnist = fashion_mnist\n",
    "    (train_images_full, train_labels_full), (test_images_full, test_labels_full) = fashion_mnist.load_data()\n",
    "    \n",
    "    train_images = []\n",
    "    train_labels = []\n",
    "    test_images = []\n",
    "    test_labels = []\n",
    "    print(\"Loading train data\")\n",
    "    for i in tqdm(list(range(len(train_labels_full)))):\n",
    "        if train_labels_full[i] in keepClasses:\n",
    "            train_labels.append(transDict[train_labels_full[i]])\n",
    "            train_images.append(train_images_full[i])\n",
    "    train_images = np.array(train_images)\n",
    "    train_labels = np.array(train_labels)\n",
    "    print(\"Loading test data\")\n",
    "    for i in tqdm(list(range(len(test_labels_full)))):\n",
    "        if test_labels_full[i] in keepClasses:\n",
    "            test_labels.append(transDict[test_labels_full[i]])\n",
    "            test_images.append(test_images_full[i])\n",
    "    test_images = np.array(test_images)\n",
    "    test_labels = np.array(test_labels)\n",
    "    \n",
    "    \n",
    "    # Setup labels as vector outputs rather than digit value\n",
    "    train_labelsVektor = np.zeros((qubitCount, len(train_labels)))\n",
    "    for i in range(len(train_labels)):\n",
    "        for j in range(len(keepClasses)):\n",
    "            if train_labels[i] == j:\n",
    "                train_labelsVektor[j, i] += 1\n",
    "    train_labelsVektor = np.transpose(train_labelsVektor)\n",
    "\n",
    "    test_labelsVektor = np.zeros((qubitCount, len(test_labels)))\n",
    "    for i in range(len(test_labels)):\n",
    "        for j in range(len(keepClasses)):\n",
    "            if test_labels[i] == j:\n",
    "                test_labelsVektor[j, i] += 1\n",
    "    test_labelsVektor = np.transpose(test_labelsVektor)\n",
    "    \n",
    "    return (train_images, train_labelsVektor), (test_images, test_labelsVektor)\n",
    "\n",
    "          "
   ]
  },
  {
   "cell_type": "markdown",
   "id": "e62e9344",
   "metadata": {},
   "source": [
    "### Function for manual scoring of the parameters \n",
    "In order to check wether or not the classifier is overtrained we try and score the circuit with different parameters"
   ]
  },
  {
   "cell_type": "code",
   "execution_count": 6,
   "id": "cb01d436",
   "metadata": {
    "ExecuteTime": {
     "end_time": "2022-12-09T12:31:10.154845Z",
     "start_time": "2022-12-09T12:31:10.077542Z"
    }
   },
   "outputs": [],
   "source": [
    "def scoreParams(dataset, labels, parameters, vqc): # -> score\n",
    "    score = 0\n",
    "    for itera in range(len(dataset)):\n",
    "        probs = vqc.neural_network.forward(dataset[itera], parameters)\n",
    "        #print(probs, labels[itera])\n",
    "        #print(int(max(probs, key=probs.get)), list(labels[itera]).index(max(labels[itera])))\n",
    "        if list(probs[0]).index(max(probs[0])) == list(labels[itera]).index(max(labels[itera])):\n",
    "            score += 1\n",
    "    return score / len(dataset)\n",
    "\n",
    "def scoreParamsByClass(dataset, labels, parameters, vqc): # -> score\n",
    "    scores = [0] * len(labels[0])\n",
    "    howManyOfEach = [0] * len(labels[0])\n",
    "    for itera in range(len(dataset)):\n",
    "        probs = vqc.neural_network.forward(dataset[itera], parameters)\n",
    "        idx = list(labels[itera]).index(max(labels[itera]))\n",
    "        howManyOfEach[idx] += 1\n",
    "        if list(probs[0]).index(max(probs[0])) == idx:\n",
    "            scores[idx] += 1\n",
    "\n",
    "    for i, score in enumerate(scores):\n",
    "        #print(score, howManyOfEach[i])\n",
    "        scores[i] = score / howManyOfEach[i]\n",
    "    return scores\n",
    "\n",
    "\n",
    "def confusionMatrix(dataset, labels, parameters, vqc): # -> score\n",
    "    scores = np.zeros((len(labels[0]),len(labels[0])))\n",
    "    #howManyOfEach = [0] * len(labels[0])\n",
    "    for itera in range(len(dataset)):\n",
    "        probs = vqc.neural_network.forward(dataset[itera], parameters)\n",
    "        idx = list(labels[itera]).index(max(labels[itera]))\n",
    "        #howManyOfEach[idx] += 1\n",
    "        predicted = list(probs[0]).index(max(probs[0]))\n",
    "        scores[idx][predicted] += 1\n",
    "    return scores\n"
   ]
  },
  {
   "cell_type": "markdown",
   "id": "6afc0c2f",
   "metadata": {},
   "source": [
    "### Functions for writing to CSV\n",
    "JONAS FIX HER"
   ]
  },
  {
   "cell_type": "code",
   "execution_count": 7,
   "id": "442a433d",
   "metadata": {
    "ExecuteTime": {
     "end_time": "2022-12-09T12:31:10.175964Z",
     "start_time": "2022-12-09T12:31:10.157892Z"
    }
   },
   "outputs": [],
   "source": [
    "def saveALLToCSV(vqc, trainSize, testSize, logObj, features, testAccuracy, trainAccuracy, ansatzName):\n",
    "    with open('spsaTime' + '.csv', 'w', encoding='UTF8') as f:\n",
    "        writer = csv.writer(f)\n",
    "        writer.writerow(['Number of qubits: ' + str(vqc.num_qubits)])\n",
    "        writer.writerow(['Training set size: ' + str(trainSize)])\n",
    "        writer.writerow(['Test set size: ' + str(testSize)])\n",
    "        writer.writerow(['Number of features: ' + str(features)])\n",
    "        writer.writerow(['Ansatz: ' + str(ansatzName)])\n",
    "        writer.writerow(['Optimiser: ' + str(vqc.optimizer.__class__)])\n",
    "        writer.writerow(['Perturbation dimensions: ' + str(vqc.optimizer.perturbation_dims)])\n",
    "        writer.writerow(['Training accuracy', 'Test accuracy', 'Parameters'])\n",
    "        for i in range(len(trainAccuracy)):\n",
    "            writer.writerow([trainAccuracy[i], testAccuracy[i], logObj.parameters[i]])\n",
    "                         \n",
    "def saveResultToCSV(vqc, trainSize, testSize, logObj, features, testAccuracy, trainAccuracy, ansatzName):\n",
    "    with open('./results/' + 'TEST' + '/' + str(ansatzName) + '___' + str(len(logObj.parameters[0])) + '.csv', 'w', encoding='UTF8') as f:\n",
    "        writer = csv.writer(f)\n",
    "        writer.writerow(['Number of qubits: ' + str(vqc.num_qubits)])\n",
    "        writer.writerow(['Training set size: ' + str(trainSize)])\n",
    "        writer.writerow(['Test set size: ' + str(testSize)])\n",
    "        writer.writerow(['Number of features: ' + str(features)])\n",
    "        writer.writerow(['Ansatz: ' + str(ansatzName)])\n",
    "        writer.writerow(['Optimiser: ' + str(vqc.optimizer.__class__)])\n",
    "        writer.writerow(['Perturbation dimensions: ' + str(vqc.optimizer.perturbation_dims)])\n",
    "        writer.writerow(['Training accuracy', 'Test accuracy'])\n",
    "        for i in range(len(trainAccuracy)):\n",
    "            writer.writerow([trainAccuracy[i], testAccuracy[i]])"
   ]
  },
  {
   "cell_type": "markdown",
   "id": "c9079371",
   "metadata": {},
   "source": [
    "# Options for the VQC\n",
    "Here you choose everything except backend and shots"
   ]
  },
  {
   "cell_type": "code",
   "execution_count": 8,
   "id": "3b89e3b4",
   "metadata": {
    "ExecuteTime": {
     "end_time": "2022-12-09T12:31:10.198761Z",
     "start_time": "2022-12-09T12:31:10.178766Z"
    }
   },
   "outputs": [],
   "source": [
    "keepList = [0, 1, 2, 3, 4] #Which classes do we want to use in our machine learning\n",
    "nrQ = 5   #Qubits in circuits, should match number of classes\n",
    "nrThetas = nrQ*4 #number of parameters to optimise\n",
    "wantedFeatures = nrQ*2 #number of features to encode into the circuit\n",
    "\n",
    "\n",
    "encodedCircuit = encode_denseAng(nrQ, wantedFeatures)\n",
    "ansatz = qcAnsatz2(nrQ,nrThetas)\n",
    "\n",
    "#Optimiser options\n",
    "perturbationDims=int(np.ceil(0.75*nrThetas))\n",
    "\n",
    "lossFunction = 'cross_entropy' #other options include 'absolute_error' and 'cross_entropy' 'squared_error'\n",
    "\n",
    "#Validation settings\n",
    "scoreStep = 10 #Steps in epochs between accuracy scores e.g. if 10: 0, 10, 20...\n",
    "\n",
    "#Training options\n",
    "trainSize = 128 #total trainset size\n",
    "testSize = 128\n",
    "epochs = 10 #epochs in total\n",
    "\n",
    "#batch options. If batch = false none of the options here are relevant\n",
    "#both perturbationSize and learning rate can also be given as an array with length epoch/batchCount for\n",
    "batch = True\n",
    "batchCount = 2 #how many batches the training will be divided into\n",
    "perturbationSize = 0.05 #How big the perturbation in each dimension will be\n",
    "learningRateStart = 0.1 \n",
    "learningRateStop = 0.001"
   ]
  },
  {
   "cell_type": "markdown",
   "id": "65090f36",
   "metadata": {},
   "source": [
    "### Load and reduce data\n",
    "Here the data and labels are loaded\n",
    "\n",
    "The data is normalised so it is ready to be encoded\n",
    "\n",
    "PCA is also used here"
   ]
  },
  {
   "cell_type": "code",
   "execution_count": 9,
   "id": "feff41ac",
   "metadata": {
    "ExecuteTime": {
     "end_time": "2022-12-09T12:31:12.892674Z",
     "start_time": "2022-12-09T12:31:10.201577Z"
    }
   },
   "outputs": [
    {
     "name": "stdout",
     "output_type": "stream",
     "text": [
      "{0: 0, 1: 1, 2: 2, 3: 3, 4: 4}\n",
      "Loading train data\n"
     ]
    },
    {
     "data": {
      "application/vnd.jupyter.widget-view+json": {
       "model_id": "21981ed62eae4467abbb404bafa68452",
       "version_major": 2,
       "version_minor": 0
      },
      "text/plain": [
       "  0%|          | 0/60000 [00:00<?, ?it/s]"
      ]
     },
     "metadata": {},
     "output_type": "display_data"
    },
    {
     "name": "stdout",
     "output_type": "stream",
     "text": [
      "Loading test data\n"
     ]
    },
    {
     "data": {
      "application/vnd.jupyter.widget-view+json": {
       "model_id": "455ba2023bfd4e608f3870379b4ab727",
       "version_major": 2,
       "version_minor": 0
      },
      "text/plain": [
       "  0%|          | 0/10000 [00:00<?, ?it/s]"
      ]
     },
     "metadata": {},
     "output_type": "display_data"
    }
   ],
   "source": [
    "OGclass_names = ['T-shirt/top', 'Trouser', 'Pullover', 'Dress', 'Coat',\n",
    "               'Sandal', 'Shirt', 'Sneaker', 'Bag', 'Ankle boot']\n",
    "class_names = [OGclass_names[i] for i in keepList]\n",
    "(train_images, train_labelsVektor), (test_images, test_labelsVektor) = load_reduced_data(keepList, nrQ) #load\n",
    "train_images = train_images / 255.0 #Normalize\n",
    "test_images = test_images / 255.0\n",
    "\n",
    "#PCA\n",
    "reducedTrain, mean, VRed = nDimPCA(wantedFeatures, train_images)\n",
    "reducedTest = PCAOnTest(VRed,mean,test_images)\n",
    "\n",
    "#Normalising the data from 0 to pi\n",
    "reducedTrain = min_max_norm(reducedTrain)\n",
    "reducedTest = min_max_norm(reducedTest)"
   ]
  },
  {
   "cell_type": "markdown",
   "id": "74e8bc2c",
   "metadata": {},
   "source": [
    "### Running the VQC"
   ]
  },
  {
   "cell_type": "code",
   "execution_count": 10,
   "id": "28119cc0",
   "metadata": {
    "ExecuteTime": {
     "start_time": "2022-12-09T12:30:55.788Z"
    }
   },
   "outputs": [
    {
     "data": {
      "image/png": "[encoded data removed]",
      "text/plain": [
       "<Figure size 1200x600 with 1 Axes>"
      ]
     },
     "metadata": {},
     "output_type": "display_data"
    },
    {
     "name": "stdout",
     "output_type": "stream",
     "text": [
      "[7750.149596214294]\n",
      "[]\n",
      "[]\n"
     ]
    }
   ],
   "source": [
    "encodedCircuitTP = transpile(encodedCircuit, chosenBackend, optimization_level=3)\n",
    "ansatzTP = transpile(ansatz, chosenBackend, optimization_level=3)\n",
    "objective_func_vals = []\n",
    "plt.rcParams[\"figure.figsize\"] = (12, 6)\n",
    "log = OptimiserLog()\n",
    "trainResult = []\n",
    "testResult = []\n",
    "timer = [] \n",
    "\n",
    "changingLearningRate = np.logspace(-2.3, -4.6, num=epochs, base=np.e)\n",
    "\n",
    "\n",
    "optimiserOBJ = ADAM(maxiter = epochs,\n",
    "                   )\n",
    "OGvqc = VQC(feature_map=encodedCircuitTP,\n",
    "          ansatz=ansatzTP,\n",
    "          loss=lossFunction,\n",
    "          optimizer=optimiserOBJ,\n",
    "          callback=callback_graph,\n",
    "          quantum_instance=botInstance,\n",
    "         )\n",
    "\n",
    "nu = time()\n",
    "if batch == True:\n",
    "    optimiserOBJ.maxiter = 1\n",
    "    batchSize = int(trainSize/batchCount)\n",
    "    #OGvqc.fit(reducedTrain[:batchSize], train_labelsVektor[:batchSize]) # to get some initial values\n",
    "    \n",
    "    \n",
    "    \n",
    "    \n",
    "\n",
    "    #initial small training to get the optimisation started\n",
    "    OGvqc.fit(reducedTrain[:batchSize], train_labelsVektor[:batchSize]) # to get some initial values\n",
    "    OGvqc.warm_start = True\n",
    "   \n",
    "\n",
    "    for epochCounter in range(epochs):\n",
    "        #optimiserOBJ.learning_rate = changingLearningRate[epochCounter]\n",
    "        for i in range(batchCount):\n",
    "            OGvqc.fit(reducedTrain[i*batchSize:(i+1)*batchSize], train_labelsVektor[i*batchSize:(i+1)*batchSize])\n",
    "        #testResult.append(OGvqc.score(reducedTest[:testSize], test_labelsVektor[:testSize]))\n",
    "        #OGvqc.save(\"VQCModelMANYPAR\")\n",
    "        #trainResult.append(OGvqc.score(reducedTrain[:trainSize], train_labelsVektor[:trainSize]))\n",
    "    timer.append(time() - nu)\n",
    "    \n",
    "\n",
    "\n",
    "else: \n",
    "    OGvqc.fit(reducedTrain[:trainSize], train_labelsVektor[:trainSize])\n",
    "    #testResult.append(OGvqc.score(reducedTest[:testSize], test_labelsVektor[:testSize]))\n",
    "    #OGvqc.save(\"VQCModelMANYPAR\")\n",
    "    #trainResult.append(OGvqc.score(reducedTrain[:trainSize], train_labelsVektor[:trainSize]))\n",
    "    timer.append(time() - nu)\n",
    "\n",
    "\n",
    "print(timer)\n",
    "print(testResult)\n",
    "print(trainResult)"
   ]
  },
  {
   "cell_type": "markdown",
   "id": "cf985e69",
   "metadata": {},
   "source": [
    "### Plot of the 'nice' training"
   ]
  },
  {
   "cell_type": "code",
   "execution_count": 11,
   "id": "e1f6af34",
   "metadata": {
    "ExecuteTime": {
     "start_time": "2022-12-09T12:30:55.789Z"
    }
   },
   "outputs": [
    {
     "name": "stderr",
     "output_type": "stream",
     "text": [
      "c:\\Users\\nikol\\Anaconda3\\envs\\qiskit\\lib\\site-packages\\numpy\\core\\fromnumeric.py:3432: RuntimeWarning: Mean of empty slice.\n",
      "  return _methods._mean(a, axis=axis, dtype=dtype,\n",
      "c:\\Users\\nikol\\Anaconda3\\envs\\qiskit\\lib\\site-packages\\numpy\\core\\_methods.py:190: RuntimeWarning: invalid value encountered in double_scalars\n",
      "  ret = ret.dtype.type(ret / rcount)\n"
     ]
    },
    {
     "data": {
      "image/png": "[encoded data removed]",
      "text/plain": [
       "<Figure size 1200x600 with 1 Axes>"
      ]
     },
     "metadata": {},
     "output_type": "display_data"
    }
   ],
   "source": [
    "fig = plt.figure()\n",
    "if batch == True:\n",
    "    avgCost = []\n",
    "    for i in range(epochs):\n",
    "        avgCost.append(np.mean(log.costs[i*batchCount:(i+1)*batchCount])) #average of the batch costs\n",
    "    #plt.plot(range((epochs*batchCount)+1), log.costs)\n",
    "    plt.plot(range(epochs), avgCost)\n",
    "\n",
    "\n",
    "else: \n",
    "    plt.plot(range(epochs), log.costs)\n",
    "    \n",
    "plt.xlabel('Steps')\n",
    "plt.ylabel('Cost')\n",
    "plt.grid()\n",
    "plt.show()"
   ]
  },
  {
   "cell_type": "code",
   "execution_count": 12,
   "id": "7ddfe9a4",
   "metadata": {
    "ExecuteTime": {
     "start_time": "2022-12-09T12:30:55.794Z"
    }
   },
   "outputs": [
    {
     "data": {
      "text/html": [
       "<h3>Version Information</h3><table><tr><th>Qiskit Software</th><th>Version</th></tr><tr><td><code>qiskit-terra</code></td><td>0.22.0</td></tr><tr><td><code>qiskit-aer</code></td><td>0.11.0</td></tr><tr><td><code>qiskit-ibmq-provider</code></td><td>0.19.2</td></tr><tr><td><code>qiskit</code></td><td>0.39.0</td></tr><tr><td><code>qiskit-machine-learning</code></td><td>0.5.0</td></tr><tr><th>System information</th></tr><tr><td>Python version</td><td>3.10.6</td></tr><tr><td>Python compiler</td><td>MSC v.1916 64 bit (AMD64)</td></tr><tr><td>Python build</td><td>main, Oct 24 2022 16:02:16</td></tr><tr><td>OS</td><td>Windows</td></tr><tr><td>CPUs</td><td>8</td></tr><tr><td>Memory (Gb)</td><td>13.855525970458984</td></tr><tr><td colspan='2'>Thu Dec 15 15:28:11 2022 Rom, normaltid</td></tr></table>"
      ],
      "text/plain": [
       "<IPython.core.display.HTML object>"
      ]
     },
     "metadata": {},
     "output_type": "display_data"
    }
   ],
   "source": [
    "from qiskit.tools.jupyter import *\n",
    "%qiskit_version_table"
   ]
  }
 ],
 "metadata": {
  "kernelspec": {
   "display_name": "Python 3.10.6 ('qiskit')",
   "language": "python",
   "name": "python3"
  },
  "language_info": {
   "codemirror_mode": {
    "name": "ipython",
    "version": 3
   },
   "file_extension": ".py",
   "mimetype": "text/x-python",
   "name": "python",
   "nbconvert_exporter": "python",
   "pygments_lexer": "ipython3",
   "version": "3.10.6"
  },
  "varInspector": {
   "cols": {
    "lenName": 16,
    "lenType": 16,
    "lenVar": 40
   },
   "kernels_config": {
    "python": {
     "delete_cmd_postfix": "",
     "delete_cmd_prefix": "del ",
     "library": "var_list.py",
     "varRefreshCmd": "print(var_dic_list())"
    },
    "r": {
     "delete_cmd_postfix": ") ",
     "delete_cmd_prefix": "rm(",
     "library": "var_list.r",
     "varRefreshCmd": "cat(var_dic_list()) "
    }
   },
   "position": {
    "height": "362.85px",
    "left": "1139.67px",
    "right": "20px",
    "top": "127px",
    "width": "348.667px"
   },
   "types_to_exclude": [
    "module",
    "function",
    "builtin_function_or_method",
    "instance",
    "_Feature"
   ],
   "window_display": false
  },
  "vscode": {
   "interpreter": {
    "hash": "bba471ec249806a83de77253d0b7ea1000151e9b528ac84cd1730dfb720c7a56"
   }
  }
 },
 "nbformat": 4,
 "nbformat_minor": 5
}
