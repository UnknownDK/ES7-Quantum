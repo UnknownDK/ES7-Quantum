{
 "cells": [
  {
   "cell_type": "markdown",
   "id": "71467e74",
   "metadata": {},
   "source": [
    "# Ansatz circuits\n",
    "In this notebook functions for generating different ansatz circuits are shown and an example is shown"
   ]
  },
  {
   "cell_type": "code",
   "execution_count": 3,
   "id": "88b9979d",
   "metadata": {},
   "outputs": [],
   "source": [
    "from qiskit import QuantumCircuit\n",
    "from qiskit.circuit import Parameter, ParameterVector\n",
    "import math\n",
    "\n",
    "\n",
    "def encodeValidation(n,dataLenght, reps):\n",
    "    \"\"\"\n",
    "    Function for checking that the number of parameters times \"reps\"\n",
    "    matches the size of the ansatz circuit \n",
    "    \"\"\"\n",
    "    if (dataLenght % n) > 0 and (dataLenght / n) > reps:\n",
    "         raise Exception(\"nr of features and encoding circuit doesn't match\") \n",
    "    else:\n",
    "        pass\n",
    "\n",
    "    \n",
    "def qcAnsatz2(qubits, nrT):\n",
    "    \"\"\"\"\n",
    "    This function generates ansatz circuit number 2\n",
    "    Inputs are number of qubits and the number of parameters\n",
    "    \n",
    "    :param int qubits: The number of qubits in the circuit\n",
    "    :param int nrT: The number of optimisation parameters which should be generated\n",
    "    :return: Ansatz circuit\n",
    "    \"\"\"\n",
    "    \n",
    "    paraPrQ = 2\n",
    "    paraPrL = paraPrQ * qubits\n",
    "    reps = math.ceil(nrT/paraPrL)\n",
    "    encodeValidation(qubits, nrT, reps) #checks wether or not nrT and qubits match\n",
    "    \n",
    "    theta_list = ParameterVector('θ', length=reps*paraPrL)\n",
    "    circuit = QuantumCircuit(qubits)\n",
    "    for j in range(reps):\n",
    "        for i in range(qubits):\n",
    "            circuit.rx(theta_list[j*paraPrL+i],i)\n",
    "            circuit.ry(theta_list[j*paraPrL+i+qubits],i)\n",
    "        \n",
    "        for i in range((qubits-1),0,-1):\n",
    "            circuit.cx(i,i-1)\n",
    "            \n",
    "    return circuit\n",
    "    \n",
    "    \n",
    "    \n",
    "def qcAnsatz9(qubits, nrT):\n",
    "    \"\"\"\"\n",
    "    This function generates ansatz circuit number 9\n",
    "    Inputs are number of qubits and the number of parameters\n",
    "    \n",
    "    :param int qubits: The number of qubits in the circuit\n",
    "    :param int nrT: The number of optimisation parameters which should be generated\n",
    "    :return: Ansatz circuit\n",
    "    \"\"\"\n",
    "    \n",
    "    paraPrQ = 1\n",
    "    paraPrL = paraPrQ * qubits\n",
    "    reps = math.ceil(nrT/paraPrL)\n",
    "    \n",
    "    encodeValidation(qubits, nrT, reps) #checks wether or not nrT and qubits match\n",
    "    \n",
    "    theta_list = ParameterVector('θ', length=reps*qubits)\n",
    "    circuit = QuantumCircuit(qubits)\n",
    "\n",
    "    for j in range(reps):\n",
    "        circuit.h(range(qubits))\n",
    "        for i in range(qubits-1):\n",
    "            circuit.swap(i,i+1)\n",
    "        \n",
    "        for i in range(qubits):\n",
    "            circuit.rx(theta_list[j*qubits+i], i)\n",
    "\n",
    "    return circuit\n",
    "\n",
    "\n",
    "def qcAnsatz14(qubits, nrT):\n",
    "    \n",
    "    \"\"\"\n",
    "    This function generates ansatz circuit number 14\n",
    "    Inputs are number of qubits and the number of parameters\n",
    "    \n",
    "    :param int qubits: The number of qubits in the circuit\n",
    "    :param int nrT: The number of optimisation parameters which should be generated\n",
    "    :return: Ansatz circuit\n",
    "    \"\"\"\n",
    "    \n",
    "    paraPrQ = 4\n",
    "    paraPrL = paraPrQ * qubits\n",
    "    reps = math.ceil(nrT/paraPrL)\n",
    "    \n",
    "    encodeValidation(qubits, nrT, reps) #checks wether or not nrT and qubits match\n",
    "    \n",
    "    theta_list = ParameterVector('θ', length=reps*paraPrL)\n",
    "    circuit = QuantumCircuit(qubits)\n",
    "    counter = 0\n",
    "    for j in range(reps):\n",
    "        for i in range(qubits):\n",
    "            circuit.ry(theta_list[counter], i)\n",
    "            counter += 1\n",
    "\n",
    "        circuit.crx(theta_list[counter], qubits-1, 0)\n",
    "        counter += 1\n",
    "       \n",
    "        if qubits > 2:\n",
    "            for i in range((qubits-2),-1,-1):\n",
    "                circuit.crx(theta_list[counter],i,i+1)\n",
    "                counter += 1\n",
    "\n",
    "        for i in range(qubits):\n",
    "            circuit.ry(theta_list[counter], i)\n",
    "            counter += 1\n",
    "\n",
    "        circuit.crx(theta_list[counter], qubits-1, qubits-2)\n",
    "        counter += 1\n",
    "        circuit.crx(theta_list[counter], 0, qubits-1,)\n",
    "        counter += 1\n",
    "        if qubits > 2:\n",
    "            for i in range(1,(qubits-1)):\n",
    "                circuit.crx(theta_list[counter], i, i-1,)\n",
    "                counter += 1        \n",
    "    return circuit\n",
    "    "
   ]
  },
  {
   "cell_type": "markdown",
   "id": "92bfb457",
   "metadata": {},
   "source": [
    "Example of use:\n",
    "Ansatz 9 with 4 qubits and 8 parameters resulting in 2 layers"
   ]
  },
  {
   "cell_type": "code",
   "execution_count": 4,
   "id": "7c68fb10",
   "metadata": {},
   "outputs": [
    {
     "data": {
      "image/png": "[encoded data removed]",
      "text/plain": [
       "<Figure size 872.774x367.889 with 1 Axes>"
      ]
     },
     "execution_count": 4,
     "metadata": {},
     "output_type": "execute_result"
    }
   ],
   "source": [
    "testCircuit = qcAnsatz9(4,8) \n",
    "testCircuit.draw('mpl')"
   ]
  }
 ],
 "metadata": {
  "kernelspec": {
   "display_name": "Python 3 (ipykernel)",
   "language": "python",
   "name": "python3"
  },
  "language_info": {
   "codemirror_mode": {
    "name": "ipython",
    "version": 3
   },
   "file_extension": ".py",
   "mimetype": "text/x-python",
   "name": "python",
   "nbconvert_exporter": "python",
   "pygments_lexer": "ipython3",
   "version": "3.9.7"
  },
  "varInspector": {
   "cols": {
    "lenName": 16,
    "lenType": 16,
    "lenVar": 40
   },
   "kernels_config": {
    "python": {
     "delete_cmd_postfix": "",
     "delete_cmd_prefix": "del ",
     "library": "var_list.py",
     "varRefreshCmd": "print(var_dic_list())"
    },
    "r": {
     "delete_cmd_postfix": ") ",
     "delete_cmd_prefix": "rm(",
     "library": "var_list.r",
     "varRefreshCmd": "cat(var_dic_list()) "
    }
   },
   "types_to_exclude": [
    "module",
    "function",
    "builtin_function_or_method",
    "instance",
    "_Feature"
   ],
   "window_display": false
  }
 },
 "nbformat": 4,
 "nbformat_minor": 5
}
